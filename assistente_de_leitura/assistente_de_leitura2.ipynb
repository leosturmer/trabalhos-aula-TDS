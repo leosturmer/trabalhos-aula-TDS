{
 "cells": [
  {
   "cell_type": "markdown",
   "id": "cead98f2",
   "metadata": {},
   "source": [
    "### Assistente de leitura\n",
    "\n",
    "Faça um programa que ajude um leitor a organizar suas leituras. O programa deve permitir:\n",
    "\n",
    "- cadastrar livros\n",
    "- registrar a página onde o leitor parou a leitura\n",
    "- listar livros informando\n",
    "    - a quantidade de páginas restantes para o final da leitura\n",
    "    - o percentual restante para o final da leitura\n",
    "- listar os livros filtrando\n",
    "    - leituras encerradas\n",
    "    - leituras em curso\n",
    "    - leituras não iniciadas"
   ]
  },
  {
   "cell_type": "code",
   "execution_count": 1,
   "id": "26e660f4",
   "metadata": {},
   "outputs": [],
   "source": [
    "class Estante():\n",
    "\n",
    "    def __init__(self):\n",
    "        self.meus_livros = list()\n",
    "\n",
    "    def adicionar_na_estante(self, livro):\n",
    "        if livro not in self.meus_livros:\n",
    "            self.meus_livros.append(livro)\n",
    "        else:\n",
    "            print(f\"{livro.titulo}: título já cadastrado\")\n",
    "    \n",
    "    def mostrar_livros_estante(self):\n",
    "        for livro in self.meus_livros:\n",
    "            print(f\"\"\"\n",
    "Título: {livro.titulo}\n",
    "Quantidade de páginas: {livro.quantidade_de_paginas}\n",
    "                \"\"\")\n",
    "            \n",
    "          #  Status da leitura: {livro.status_de_leitura}\n",
    "\n",
    "    def mostrar_progresso_leitura(self, leitura):\n",
    "        for leitura.livro in self.meus_livros:\n",
    "            leitura.calculo_percentual()\n",
    "\n",
    "            print(f\"\"\"Título: {leitura.titulo}\n",
    "                Quantidade de páginas: {leitura.quantidade_de_paginas}\n",
    "                Páginas restantes: {leitura.paginas_restantes}\"\"\")\n"
   ]
  },
  {
   "cell_type": "code",
   "execution_count": 2,
   "id": "3188724e",
   "metadata": {},
   "outputs": [],
   "source": [
    "\n",
    "class Livro():\n",
    "\n",
    "    def __init__(self, titulo, quantidade_de_paginas):\n",
    "       self.titulo = titulo       \n",
    "       self.quantidade_de_paginas = quantidade_de_paginas\n",
    "           \n",
    "    def __eq__(self, value):        \n",
    "        return self.titulo == value.titulo\n",
    "        \n"
   ]
  },
  {
   "cell_type": "code",
   "execution_count": 3,
   "id": "463e65ee",
   "metadata": {},
   "outputs": [],
   "source": [
    "        \n",
    "class Leitura():\n",
    "    def __init__(self, livro, pagina_atual = 0):\n",
    "        self.livro = livro\n",
    "        self.pagina_atual = pagina_atual\n",
    "        self.paginas_restantes = 0\n",
    "        self.percentual_restante = 0\n",
    "        self.status_de_leitura = ''\n",
    "\n",
    "    def atualizar_leitura(self, pagina_atual):\n",
    "        self.pagina_atual = pagina_atual\n",
    "\n",
    "    def calculo_percentual(self):\n",
    "        self.paginas_restantes = self.livro.quantidade_de_paginas - self.pagina_atual\n",
    "        self.percentual_restante = (100 * self.paginas_restantes) / self.livro.quantidade_de_paginas\n",
    "        \n",
    "        return self.percentual_restante and self.paginas_restantes\n",
    "\n",
    "    def verificacao_de_leitura(self):\n",
    "        self.status_de_leitura = int(self.percentual_restante)\n",
    "\n",
    "        if self.percentual_restante == 0:\n",
    "            self.status_de_leitura = 'Concluído'\n",
    "        elif self.percentual_restante < 100:\n",
    "            self.status_de_leitura = 'Lendo'\n",
    "        elif self.percentual_restante == 100:\n",
    "            self.status_de_leitura = 'Não lido'        \n",
    "        return self.status_de_leitura\n",
    "\n",
    "\n",
    "    ### View \n",
    "\n",
    "    def imprimir_progresso(self):\n",
    "        print(f\"\"\"\n",
    "Livro: {self.livro.titulo}\n",
    "{int(self.percentual_restante)}% lido\n",
    "Páginas lidas: {self.pagina_atual} \n",
    "Total de páginas: {self.livro.quantidade_de_paginas}\n",
    "Status da leitura: {self.status_de_leitura}\n",
    "\"\"\")        \n",
    "\n",
    "    \n"
   ]
  },
  {
   "cell_type": "code",
   "execution_count": 4,
   "id": "488958ee",
   "metadata": {},
   "outputs": [
    {
     "name": "stdout",
     "output_type": "stream",
     "text": [
      "Tieta: título já cadastrado\n"
     ]
    }
   ],
   "source": [
    "# Criando a estante\n",
    "\n",
    "minha_estante = Estante()\n",
    "\n",
    "# Criando livros\n",
    "\n",
    "joaoemaria = Livro('João e Maria', 50)\n",
    "mobydick = Livro('Moby dick', 500)\n",
    "tieta = Livro('Tieta', 200)\n",
    "tieta2 = Livro('Tieta', 200)\n",
    "\n",
    "# Adicionando livros na estante\n",
    "\n",
    "minha_estante.adicionar_na_estante(joaoemaria)\n",
    "minha_estante.adicionar_na_estante(mobydick)\n",
    "minha_estante.adicionar_na_estante(tieta)\n",
    "minha_estante.adicionar_na_estante(tieta2)"
   ]
  },
  {
   "cell_type": "code",
   "execution_count": 5,
   "id": "4b0b13cd",
   "metadata": {},
   "outputs": [],
   "source": [
    "leitura_joaoemaria = Leitura(joaoemaria)\n",
    "leitura_mobydick = Leitura(mobydick)\n",
    "leitura_tieta = Leitura(tieta)\n"
   ]
  },
  {
   "cell_type": "code",
   "execution_count": 6,
   "id": "34fa8e1e",
   "metadata": {},
   "outputs": [],
   "source": [
    "leitura_joaoemaria.atualizar_leitura(50)\n",
    "leitura_mobydick.atualizar_leitura(450)\n",
    "leitura_tieta.atualizar_leitura(100)\n"
   ]
  },
  {
   "cell_type": "code",
   "execution_count": 7,
   "id": "d5a41760",
   "metadata": {},
   "outputs": [
    {
     "data": {
      "text/plain": [
       "100"
      ]
     },
     "execution_count": 7,
     "metadata": {},
     "output_type": "execute_result"
    }
   ],
   "source": [
    "leitura_joaoemaria.calculo_percentual()\n",
    "leitura_mobydick.calculo_percentual()\n",
    "leitura_tieta.calculo_percentual()"
   ]
  },
  {
   "cell_type": "code",
   "execution_count": 8,
   "id": "ea2fb46a",
   "metadata": {},
   "outputs": [
    {
     "data": {
      "text/plain": [
       "'Lendo'"
      ]
     },
     "execution_count": 8,
     "metadata": {},
     "output_type": "execute_result"
    }
   ],
   "source": [
    "leitura_joaoemaria.verificacao_de_leitura()\n",
    "leitura_mobydick.verificacao_de_leitura()\n",
    "leitura_tieta.verificacao_de_leitura()"
   ]
  },
  {
   "cell_type": "code",
   "execution_count": 9,
   "id": "d11b552f",
   "metadata": {},
   "outputs": [
    {
     "name": "stdout",
     "output_type": "stream",
     "text": [
      "\n",
      "Livro: João e Maria\n",
      "0% lido\n",
      "Páginas lidas: 50 \n",
      "Total de páginas: 50\n",
      "Status da leitura: Concluído\n",
      "\n",
      "\n",
      "Livro: Moby dick\n",
      "10% lido\n",
      "Páginas lidas: 450 \n",
      "Total de páginas: 500\n",
      "Status da leitura: Lendo\n",
      "\n",
      "\n",
      "Livro: Tieta\n",
      "50% lido\n",
      "Páginas lidas: 100 \n",
      "Total de páginas: 200\n",
      "Status da leitura: Lendo\n",
      "\n"
     ]
    }
   ],
   "source": [
    "leitura_joaoemaria.imprimir_progresso()\n",
    "leitura_mobydick.imprimir_progresso()\n",
    "leitura_tieta.imprimir_progresso()"
   ]
  },
  {
   "cell_type": "code",
   "execution_count": 10,
   "id": "e8127e04",
   "metadata": {},
   "outputs": [
    {
     "name": "stdout",
     "output_type": "stream",
     "text": [
      "\n",
      "Título: João e Maria\n",
      "Quantidade de páginas: 50\n",
      "                \n",
      "\n",
      "Título: Moby dick\n",
      "Quantidade de páginas: 500\n",
      "                \n",
      "\n",
      "Título: Tieta\n",
      "Quantidade de páginas: 200\n",
      "                \n"
     ]
    }
   ],
   "source": [
    "# Mostrando os livros da estante\n",
    "\n",
    "minha_estante.mostrar_livros_estante()"
   ]
  }
 ],
 "metadata": {
  "kernelspec": {
   "display_name": "Python 3",
   "language": "python",
   "name": "python3"
  },
  "language_info": {
   "codemirror_mode": {
    "name": "ipython",
    "version": 3
   },
   "file_extension": ".py",
   "mimetype": "text/x-python",
   "name": "python",
   "nbconvert_exporter": "python",
   "pygments_lexer": "ipython3",
   "version": "3.13.2"
  }
 },
 "nbformat": 4,
 "nbformat_minor": 5
}
