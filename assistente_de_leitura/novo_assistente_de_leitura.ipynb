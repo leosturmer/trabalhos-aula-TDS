{
 "cells": [
  {
   "cell_type": "markdown",
   "id": "cead98f2",
   "metadata": {},
   "source": [
    "### Assistente de leitura\n",
    "\n",
    "Faça um programa que ajude um leitor a organizar suas leituras. O programa deve permitir:\n",
    "\n",
    "- cadastrar livros\n",
    "- registrar a página onde o leitor parou a leitura\n",
    "- listar livros informando\n",
    "    - a quantidade de páginas restantes para o final da leitura\n",
    "    - o percentual de páginas lido até o momento\n",
    "- listar os livros filtrando\n",
    "    - leituras encerradas\n",
    "    - leituras em curso\n",
    "    - leituras não iniciadas"
   ]
  },
  {
   "cell_type": "code",
   "execution_count": 1,
   "id": "26e660f4",
   "metadata": {},
   "outputs": [],
   "source": [
    "\n",
    "\n",
    "class Estante():\n",
    "\n",
    "    def __init__(self):\n",
    "        self.meus_livros = list()\n",
    "        self.leituras = dict()\n",
    "        \n",
    "    def adicionar_na_estante(self, livro):\n",
    "        if livro not in self.meus_livros:\n",
    "            self.meus_livros.append(livro)\n",
    "        else:\n",
    "            print(f\"{livro.titulo}: título já cadastrado\")\n",
    "    \n",
    "    def iniciar_leitura(self, livro):\n",
    "        self.leituras[livro.titulo] = Leitura(livro)\n",
    "\n",
    "    def get_leitura(self, titulo_do_livro):\n",
    "            return self.leituras[titulo_do_livro]\n",
    "\n",
    "    def mostrar_livros_estante(self):\n",
    "        for livro in self.meus_livros:\n",
    "            print(f\"\"\"\n",
    "Título: {livro.titulo}\n",
    "Quantidade de páginas: {livro.quantidade_de_paginas}\n",
    "                \"\"\")\n",
    "            \n",
    "    def filtrar_encerradas(self):\n",
    "        print('Leituras encerradas:')\n",
    "        for livro in self.meus_livros:\n",
    "            if percentual_de_leitura == 100:\n",
    "                print(f'{livro.titulo}.')\n",
    "\n",
    "    def filtrar_em_curso(self):\n",
    "        pass\n",
    "\n",
    "    def filtrar_nao_lidas(self):\n",
    "        pass\n",
    "\n",
    "\n",
    "\n",
    "    def mostrar_progresso_leituras(self):\n",
    "        for titulo, leitura in self.leituras.items():\n",
    "            print(f\"\"\"\n",
    "Título: {titulo}\n",
    "Quantidade de páginas: {leitura.livro.quantidade_de_paginas}\n",
    "Páginas restantes: {leitura.paginas_restantes}\"\"\")\n",
    "            \n",
    "\n",
    "    \n"
   ]
  },
  {
   "cell_type": "code",
   "execution_count": 2,
   "id": "3188724e",
   "metadata": {},
   "outputs": [],
   "source": [
    "\n",
    "class Livro():\n",
    "\n",
    "    def __init__(self, titulo, quantidade_de_paginas):\n",
    "       self.titulo = titulo       \n",
    "       self.quantidade_de_paginas = quantidade_de_paginas\n",
    "           \n",
    "    def __eq__(self, value):        \n",
    "        return self.titulo == value.titulo\n",
    "        \n"
   ]
  },
  {
   "cell_type": "code",
   "execution_count": 3,
   "id": "463e65ee",
   "metadata": {},
   "outputs": [],
   "source": [
    "        \n",
    "class Leitura():\n",
    "    def __init__(self, livro, pagina_atual = 0):\n",
    "        self.livro = livro\n",
    "        self.pagina_atual = pagina_atual\n",
    "        self.paginas_restantes = 0\n",
    "        self.percentual_de_leitura = 0\n",
    "        self.status_de_leitura = ''\n",
    "\n",
    "    def atualizar_leitura(self, pagina_atual):\n",
    "        self.pagina_atual = pagina_atual\n",
    "\n",
    "    def calculo_percentual(self):\n",
    "        self.percentual_de_leitura = (self.pagina_atual / self.livro.quantidade_de_paginas) * 100\n",
    "        return self.percentual_de_leitura\n",
    "\n",
    "    def quantidade_paginas_restantes(self):\n",
    "        self.paginas_restantes = self.livro.quantidade_de_paginas - self.pagina_atual\n",
    "        return self.paginas_restantes\n",
    "\n",
    "    def verificacao_de_leitura(self):\n",
    "        self.status_de_leitura = int(self.percentual_de_leitura)\n",
    "\n",
    "        if self.percentual_de_leitura == 0:\n",
    "            self.status_de_leitura = 'Não lido'\n",
    "        elif self.percentual_de_leitura < 100:\n",
    "            self.status_de_leitura = 'Lendo'\n",
    "        elif self.percentual_de_leitura == 100:\n",
    "            self.status_de_leitura = 'Concluído'        \n",
    "        return self.status_de_leitura\n",
    "\n",
    "   \n",
    "\n",
    "\n",
    "    ### View \n",
    "\n",
    "    def imprimir_progresso(self):\n",
    "        print(f\"\"\"\n",
    "Livro: {self.livro.titulo}\n",
    "{int(self.percentual_de_leitura)}% lido\n",
    "Páginas lidas: {self.pagina_atual} \n",
    "Total de páginas: {self.livro.quantidade_de_paginas}\n",
    "Status da leitura: {self.status_de_leitura}\n",
    "\"\"\")        \n",
    "\n",
    "    \n",
    "\n"
   ]
  },
  {
   "cell_type": "code",
   "execution_count": 4,
   "id": "488958ee",
   "metadata": {},
   "outputs": [
    {
     "name": "stdout",
     "output_type": "stream",
     "text": [
      "Tieta: título já cadastrado\n"
     ]
    }
   ],
   "source": [
    "####################################################\n",
    "\n",
    "\n",
    "#  Criando a estante\n",
    "\n",
    "minha_estante = Estante()\n",
    "\n",
    "# Criando livros\n",
    "\n",
    "joaoemaria = Livro('João e Maria', 50)\n",
    "mobydick = Livro('Moby dick', 500)\n",
    "tieta = Livro('Tieta', 200)\n",
    "tieta2 = Livro('Tieta', 200)\n",
    "\n",
    "# Adicionando livros na estante\n",
    "\n",
    "minha_estante.adicionar_na_estante(joaoemaria)\n",
    "minha_estante.adicionar_na_estante(mobydick)\n",
    "minha_estante.adicionar_na_estante(tieta)\n",
    "minha_estante.adicionar_na_estante(tieta2)"
   ]
  },
  {
   "cell_type": "code",
   "execution_count": 5,
   "id": "1896ec6d",
   "metadata": {},
   "outputs": [
    {
     "name": "stdout",
     "output_type": "stream",
     "text": [
      "\n",
      "Título: João e Maria\n",
      "Quantidade de páginas: 50\n",
      "                \n",
      "\n",
      "Título: Moby dick\n",
      "Quantidade de páginas: 500\n",
      "                \n",
      "\n",
      "Título: Tieta\n",
      "Quantidade de páginas: 200\n",
      "                \n"
     ]
    }
   ],
   "source": [
    "# Mostrando os livros da estante\n",
    "\n",
    "minha_estante.mostrar_livros_estante()"
   ]
  },
  {
   "cell_type": "code",
   "execution_count": 6,
   "id": "4b0b13cd",
   "metadata": {},
   "outputs": [],
   "source": [
    "\n",
    "minha_estante.iniciar_leitura(joaoemaria)\n",
    "minha_estante.iniciar_leitura(mobydick)\n",
    "minha_estante.iniciar_leitura(tieta)\n"
   ]
  },
  {
   "cell_type": "code",
   "execution_count": 7,
   "id": "34fa8e1e",
   "metadata": {},
   "outputs": [],
   "source": [
    "minha_estante.get_leitura(\"João e Maria\").atualizar_leitura(50)\n",
    "minha_estante.get_leitura(\"Moby dick\").atualizar_leitura(450)\n",
    "minha_estante.get_leitura(\"Tieta\").atualizar_leitura(0)\n",
    "\n"
   ]
  },
  {
   "cell_type": "code",
   "execution_count": 8,
   "id": "d5a41760",
   "metadata": {},
   "outputs": [
    {
     "data": {
      "text/plain": [
       "200"
      ]
     },
     "execution_count": 8,
     "metadata": {},
     "output_type": "execute_result"
    }
   ],
   "source": [
    "minha_estante.get_leitura(\"João e Maria\").quantidade_paginas_restantes()\n",
    "minha_estante.get_leitura(\"Moby dick\").quantidade_paginas_restantes()\n",
    "minha_estante.get_leitura(\"Tieta\").quantidade_paginas_restantes()"
   ]
  },
  {
   "cell_type": "code",
   "execution_count": 9,
   "id": "6c30b992",
   "metadata": {},
   "outputs": [
    {
     "data": {
      "text/plain": [
       "0.0"
      ]
     },
     "execution_count": 9,
     "metadata": {},
     "output_type": "execute_result"
    }
   ],
   "source": [
    "minha_estante.get_leitura(\"João e Maria\").calculo_percentual()\n",
    "minha_estante.get_leitura(\"Moby dick\").calculo_percentual()\n",
    "minha_estante.get_leitura(\"Tieta\").calculo_percentual()"
   ]
  },
  {
   "cell_type": "code",
   "execution_count": 10,
   "id": "93803547",
   "metadata": {},
   "outputs": [
    {
     "data": {
      "text/plain": [
       "0.0"
      ]
     },
     "execution_count": 10,
     "metadata": {},
     "output_type": "execute_result"
    }
   ],
   "source": [
    "minha_estante.get_leitura(\"João e Maria\").calculo_percentual()\n",
    "minha_estante.get_leitura(\"Moby dick\").calculo_percentual()\n",
    "minha_estante.get_leitura(\"Tieta\").calculo_percentual()"
   ]
  },
  {
   "cell_type": "code",
   "execution_count": 11,
   "id": "7a55f550",
   "metadata": {},
   "outputs": [
    {
     "data": {
      "text/plain": [
       "'Não lido'"
      ]
     },
     "execution_count": 11,
     "metadata": {},
     "output_type": "execute_result"
    }
   ],
   "source": [
    "minha_estante.get_leitura(\"João e Maria\").verificacao_de_leitura()\n",
    "minha_estante.get_leitura(\"Moby dick\").verificacao_de_leitura()\n",
    "minha_estante.get_leitura(\"Tieta\").verificacao_de_leitura()"
   ]
  },
  {
   "cell_type": "code",
   "execution_count": 12,
   "id": "f18493cc",
   "metadata": {},
   "outputs": [
    {
     "name": "stdout",
     "output_type": "stream",
     "text": [
      "\n",
      "Título: João e Maria\n",
      "Quantidade de páginas: 50\n",
      "Páginas restantes: 0\n",
      "\n",
      "Título: Moby dick\n",
      "Quantidade de páginas: 500\n",
      "Páginas restantes: 50\n",
      "\n",
      "Título: Tieta\n",
      "Quantidade de páginas: 200\n",
      "Páginas restantes: 200\n"
     ]
    }
   ],
   "source": [
    "minha_estante.mostrar_progresso_leituras()"
   ]
  },
  {
   "cell_type": "code",
   "execution_count": 13,
   "id": "0b65db9b",
   "metadata": {},
   "outputs": [
    {
     "name": "stdout",
     "output_type": "stream",
     "text": [
      "\n",
      "Livro: João e Maria\n",
      "100% lido\n",
      "Páginas lidas: 50 \n",
      "Total de páginas: 50\n",
      "Status da leitura: Concluído\n",
      "\n",
      "\n",
      "Livro: Moby dick\n",
      "90% lido\n",
      "Páginas lidas: 450 \n",
      "Total de páginas: 500\n",
      "Status da leitura: Lendo\n",
      "\n",
      "\n",
      "Livro: Tieta\n",
      "0% lido\n",
      "Páginas lidas: 0 \n",
      "Total de páginas: 200\n",
      "Status da leitura: Não lido\n",
      "\n"
     ]
    }
   ],
   "source": [
    "minha_estante.get_leitura(\"João e Maria\").imprimir_progresso()\n",
    "minha_estante.get_leitura(\"Moby dick\").imprimir_progresso()\n",
    "minha_estante.get_leitura(\"Tieta\").imprimir_progresso()"
   ]
  },
  {
   "cell_type": "code",
   "execution_count": 14,
   "id": "27a8c01b",
   "metadata": {},
   "outputs": [
    {
     "name": "stdout",
     "output_type": "stream",
     "text": [
      "Leituras encerradas:\n"
     ]
    },
    {
     "ename": "NameError",
     "evalue": "name 'percentual_de_leitura' is not defined",
     "output_type": "error",
     "traceback": [
      "\u001b[31m---------------------------------------------------------------------------\u001b[39m",
      "\u001b[31mNameError\u001b[39m                                 Traceback (most recent call last)",
      "\u001b[36mCell\u001b[39m\u001b[36m \u001b[39m\u001b[32mIn[14]\u001b[39m\u001b[32m, line 1\u001b[39m\n\u001b[32m----> \u001b[39m\u001b[32m1\u001b[39m \u001b[43mminha_estante\u001b[49m\u001b[43m.\u001b[49m\u001b[43mfiltrar_encerradas\u001b[49m\u001b[43m(\u001b[49m\u001b[43m)\u001b[49m\n",
      "\u001b[36mCell\u001b[39m\u001b[36m \u001b[39m\u001b[32mIn[1]\u001b[39m\u001b[32m, line 29\u001b[39m, in \u001b[36mEstante.filtrar_encerradas\u001b[39m\u001b[34m(self)\u001b[39m\n\u001b[32m     27\u001b[39m \u001b[38;5;28mprint\u001b[39m(\u001b[33m'\u001b[39m\u001b[33mLeituras encerradas:\u001b[39m\u001b[33m'\u001b[39m)\n\u001b[32m     28\u001b[39m \u001b[38;5;28;01mfor\u001b[39;00m livro \u001b[38;5;129;01min\u001b[39;00m \u001b[38;5;28mself\u001b[39m.meus_livros:\n\u001b[32m---> \u001b[39m\u001b[32m29\u001b[39m     \u001b[38;5;28;01mif\u001b[39;00m \u001b[43mpercentual_de_leitura\u001b[49m == \u001b[32m100\u001b[39m:\n\u001b[32m     30\u001b[39m         \u001b[38;5;28mprint\u001b[39m(\u001b[33mf\u001b[39m\u001b[33m'\u001b[39m\u001b[38;5;132;01m{\u001b[39;00mlivro.titulo\u001b[38;5;132;01m}\u001b[39;00m\u001b[33m.\u001b[39m\u001b[33m'\u001b[39m)\n",
      "\u001b[31mNameError\u001b[39m: name 'percentual_de_leitura' is not defined"
     ]
    }
   ],
   "source": [
    "minha_estante.filtrar_encerradas()"
   ]
  }
 ],
 "metadata": {
  "kernelspec": {
   "display_name": "Python 3",
   "language": "python",
   "name": "python3"
  },
  "language_info": {
   "codemirror_mode": {
    "name": "ipython",
    "version": 3
   },
   "file_extension": ".py",
   "mimetype": "text/x-python",
   "name": "python",
   "nbconvert_exporter": "python",
   "pygments_lexer": "ipython3",
   "version": "3.13.2"
  }
 },
 "nbformat": 4,
 "nbformat_minor": 5
}
