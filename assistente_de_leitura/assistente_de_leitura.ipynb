{
 "cells": [
  {
   "cell_type": "markdown",
   "id": "cead98f2",
   "metadata": {},
   "source": [
    "### Assistente de leitura\n",
    "\n",
    "Faça um programa que ajude um leitor a organizar suas leituras. O programa deve permitir:\n",
    "\n",
    "- cadastrar livros\n",
    "- registrar a página onde o leitor parou a leitura\n",
    "- listar livros informando\n",
    "    - a quantidade de páginas restantes para o final da leitura\n",
    "    - o percentual de páginas lido até o momento\n",
    "- listar os livros filtrando\n",
    "    - leituras encerradas\n",
    "    - leituras em curso\n",
    "    - leituras não iniciadas"
   ]
  },
  {
   "cell_type": "code",
   "execution_count": null,
   "id": "26e660f4",
   "metadata": {},
   "outputs": [],
   "source": [
    "\n",
    "\n",
    "class Estante():\n",
    "\n",
    "    def __init__(self):\n",
    "        self.meus_livros = list()\n",
    "        self.leituras = dict()\n",
    "        \n",
    "    def adicionar_na_estante(self, livro):\n",
    "        if livro not in self.meus_livros:\n",
    "            self.meus_livros.append(livro)\n",
    "        else:\n",
    "            print(f\"{livro.titulo}: título já cadastrado\")\n",
    "    \n",
    "    def iniciar_leitura(self, livro):\n",
    "        self.leituras[livro.titulo] = Leitura(livro)\n",
    "\n",
    "    def get_leitura(self, titulo_do_livro):\n",
    "            return self.leituras[titulo_do_livro]\n",
    "    \n",
    "    def mostrar_livros_estante(self):\n",
    "        for livro in self.meus_livros:\n",
    "            print(f\"\"\"\n",
    "Título: {livro.titulo}\n",
    "Quantidade de páginas: {livro.quantidade_de_paginas}\n",
    "                \"\"\")\n",
<<<<<<< HEAD
    "\n",
    "    def mostrar_progresso_leitura(self):\n",
    "        for livro in self.meus_livros:\n",
    "            livro.imprimir_percentual_paginas()"
=======
    "            \n",
    "#  Status da leitura: {livro.status_de_leitura}\n",
    "\n",
    "    def mostrar_progresso_leituras(self):\n",
    "        for titulo, leitura in self.leituras.items():\n",
    "            print(f\"\"\"Título: {titulo}\n",
    "                Quantidade de páginas: {leitura.livro.quantidade_de_paginas}\n",
    "                Páginas restantes: {leitura.paginas_restantes}\"\"\")\n"
>>>>>>> d4d3898a6c2af7e8c7f3bf16e429702f591d42fa
   ]
  },
  {
   "cell_type": "code",
<<<<<<< HEAD
   "execution_count": 305,
=======
   "execution_count": 121,
>>>>>>> d4d3898a6c2af7e8c7f3bf16e429702f591d42fa
   "id": "3188724e",
   "metadata": {},
   "outputs": [],
   "source": [
    "\n",
    "class Livro():\n",
    "\n",
    "    def __init__(self, titulo, quantidade_de_paginas):\n",
    "       self.titulo = titulo       \n",
    "       self.quantidade_de_paginas = quantidade_de_paginas\n",
    "           \n",
    "    def __eq__(self, value):        \n",
    "        return self.titulo == value.titulo\n",
    "        \n"
   ]
  },
  {
   "cell_type": "code",
<<<<<<< HEAD
   "execution_count": 306,
=======
   "execution_count": null,
>>>>>>> d4d3898a6c2af7e8c7f3bf16e429702f591d42fa
   "id": "463e65ee",
   "metadata": {},
   "outputs": [],
   "source": [
    "        \n",
    "class Leitura():\n",
    "    def __init__(self, livro, pagina_atual = 0):\n",
    "        self.livro = livro\n",
    "        self.pagina_atual = pagina_atual\n",
    "        self.paginas_restantes = 0\n",
    "        self.percentual_de_leitura = 0\n",
    "        self.status_de_leitura = ''\n",
    "\n",
    "    def atualizar_leitura(self, pagina_atual):\n",
    "        self.pagina_atual = pagina_atual\n",
    "\n",
    "    def calculo_percentual(self):\n",
    "        self.percentual_de_leitura = (self.pagina_atual / self.livro.quantidade_de_paginas) * 100\n",
    "        return self.percentual_de_leitura\n",
    "\n",
    "    def quantidade_paginas_restantes(self):\n",
    "        self.paginas_restantes = self.livro.quantidade_de_paginas - self.pagina_atual\n",
    "        return self.paginas_restantes\n",
    "\n",
    "    def verificacao_de_leitura(self):\n",
    "        self.status_de_leitura = int(self.percentual_de_leitura)\n",
    "\n",
    "        if self.percentual_de_leitura == 0:\n",
    "            self.status_de_leitura = 'Não lido'\n",
    "        elif self.percentual_de_leitura < 100:\n",
    "            self.status_de_leitura = 'Lendo'\n",
    "        elif self.percentual_de_leitura == 100:\n",
    "            self.status_de_leitura = 'Concluído'        \n",
    "        return self.status_de_leitura\n",
    "\n",
    "\n",
    "    ### View \n",
    "\n",
    "    def imprimir_progresso_total(self):\n",
    "        print(f\"\"\"\n",
    "Livro: {self.livro.titulo}\n",
<<<<<<< HEAD
    "{int(self.percentual_restante)}% restante\n",
=======
    "{int(self.percentual_de_leitura)}% lido\n",
>>>>>>> d4d3898a6c2af7e8c7f3bf16e429702f591d42fa
    "Páginas lidas: {self.pagina_atual} \n",
    "Total de páginas: {self.livro.quantidade_de_paginas}\n",
    "Status da leitura: {self.status_de_leitura}\n",
    "\"\"\")        \n",
    "\n",
<<<<<<< HEAD
    "    def imprimir_percentual_paginas(self):\n",
    "            print(f\"\"\"\n",
    "    Livro: {self.livro.titulo}\n",
    "    {int(self.percentual_restante)}% restante\n",
    "    Páginas restantes: {self.paginas_restantes}\n",
    "    \"\"\")   \n"
=======
    "    \n",
    "\n"
>>>>>>> d4d3898a6c2af7e8c7f3bf16e429702f591d42fa
   ]
  },
  {
   "cell_type": "code",
<<<<<<< HEAD
   "execution_count": 307,
=======
   "execution_count": 123,
>>>>>>> d4d3898a6c2af7e8c7f3bf16e429702f591d42fa
   "id": "488958ee",
   "metadata": {},
   "outputs": [
    {
     "name": "stdout",
     "output_type": "stream",
     "text": [
      "Tieta: título já cadastrado\n"
     ]
    }
   ],
   "source": [
    "# Criando a estante\n",
    "\n",
    "minha_estante = Estante()\n",
    "\n",
    "# Criando livros\n",
    "\n",
    "joaoemaria = Livro('João e Maria', 50)\n",
    "mobydick = Livro('Moby dick', 500)\n",
    "tieta = Livro('Tieta', 200)\n",
    "tieta2 = Livro('Tieta', 200)\n",
    "\n",
    "# Adicionando livros na estante\n",
    "\n",
    "minha_estante.adicionar_na_estante(joaoemaria)\n",
    "minha_estante.adicionar_na_estante(mobydick)\n",
    "minha_estante.adicionar_na_estante(tieta)\n",
    "minha_estante.adicionar_na_estante(tieta2)"
   ]
  },
  {
   "cell_type": "code",
<<<<<<< HEAD
   "execution_count": 308,
=======
   "execution_count": null,
>>>>>>> d4d3898a6c2af7e8c7f3bf16e429702f591d42fa
   "id": "4b0b13cd",
   "metadata": {},
   "outputs": [],
   "source": [
    "\n",
    "minha_estante.iniciar_leitura(joaoemaria)\n",
    "minha_estante.iniciar_leitura(mobydick)\n",
    "minha_estante.iniciar_leitura(tieta)\n"
   ]
  },
  {
   "cell_type": "code",
<<<<<<< HEAD
   "execution_count": 309,
=======
   "execution_count": null,
>>>>>>> d4d3898a6c2af7e8c7f3bf16e429702f591d42fa
   "id": "34fa8e1e",
   "metadata": {},
   "outputs": [],
   "source": [
    "minha_estante.get_leitura(\"João e Maria\").atualizar_leitura(50)\n",
    "minha_estante.get_leitura(\"Moby dick\").atualizar_leitura(450)\n",
    "minha_estante.get_leitura(\"Tieta\").atualizar_leitura(0)\n",
    "\n"
   ]
  },
  {
   "cell_type": "code",
<<<<<<< HEAD
   "execution_count": 310,
=======
   "execution_count": 126,
>>>>>>> d4d3898a6c2af7e8c7f3bf16e429702f591d42fa
   "id": "d5a41760",
   "metadata": {},
   "outputs": [
    {
     "data": {
      "text/plain": [
       "0.0"
      ]
     },
<<<<<<< HEAD
     "execution_count": 310,
=======
     "execution_count": 126,
>>>>>>> d4d3898a6c2af7e8c7f3bf16e429702f591d42fa
     "metadata": {},
     "output_type": "execute_result"
    }
   ],
   "source": [
    "leitura_joaoemaria.calculo_percentual()\n",
    "leitura_mobydick.calculo_percentual()\n",
    "leitura_tieta.calculo_percentual()"
   ]
  },
  {
   "cell_type": "code",
<<<<<<< HEAD
   "execution_count": 311,
=======
   "execution_count": 127,
>>>>>>> d4d3898a6c2af7e8c7f3bf16e429702f591d42fa
   "id": "ea2fb46a",
   "metadata": {},
   "outputs": [
    {
     "data": {
      "text/plain": [
       "'Não lido'"
      ]
     },
<<<<<<< HEAD
     "execution_count": 311,
=======
     "execution_count": 127,
>>>>>>> d4d3898a6c2af7e8c7f3bf16e429702f591d42fa
     "metadata": {},
     "output_type": "execute_result"
    }
   ],
   "source": [
    "leitura_joaoemaria.verificacao_de_leitura()\n",
    "leitura_mobydick.verificacao_de_leitura()\n",
    "leitura_tieta.verificacao_de_leitura()"
   ]
  },
  {
   "cell_type": "code",
<<<<<<< HEAD
   "execution_count": 312,
=======
   "execution_count": 128,
>>>>>>> d4d3898a6c2af7e8c7f3bf16e429702f591d42fa
   "id": "d11b552f",
   "metadata": {},
   "outputs": [
    {
     "name": "stdout",
     "output_type": "stream",
     "text": [
      "\n",
      "Livro: João e Maria\n",
<<<<<<< HEAD
      "0% restante\n",
=======
      "100% lido\n",
>>>>>>> d4d3898a6c2af7e8c7f3bf16e429702f591d42fa
      "Páginas lidas: 50 \n",
      "Total de páginas: 50\n",
      "Status da leitura: Concluído\n",
      "\n",
      "\n",
      "Livro: Moby dick\n",
<<<<<<< HEAD
      "10% restante\n",
=======
      "90% lido\n",
>>>>>>> d4d3898a6c2af7e8c7f3bf16e429702f591d42fa
      "Páginas lidas: 450 \n",
      "Total de páginas: 500\n",
      "Status da leitura: Lendo\n",
      "\n",
      "\n",
      "Livro: Tieta\n",
<<<<<<< HEAD
      "50% restante\n",
      "Páginas lidas: 100 \n",
=======
      "0% lido\n",
      "Páginas lidas: 0 \n",
>>>>>>> d4d3898a6c2af7e8c7f3bf16e429702f591d42fa
      "Total de páginas: 200\n",
      "Status da leitura: Não lido\n",
      "\n"
     ]
    }
   ],
   "source": [
    "leitura_joaoemaria.imprimir_progresso_total()\n",
    "leitura_mobydick.imprimir_progresso_total()\n",
    "leitura_tieta.imprimir_progresso_total()"
   ]
  },
  {
   "cell_type": "code",
<<<<<<< HEAD
   "execution_count": 313,
=======
   "execution_count": 129,
>>>>>>> d4d3898a6c2af7e8c7f3bf16e429702f591d42fa
   "id": "e8127e04",
   "metadata": {},
   "outputs": [
    {
     "name": "stdout",
     "output_type": "stream",
     "text": [
      "\n",
      "Título: João e Maria\n",
      "Quantidade de páginas: 50\n",
      "                \n",
      "\n",
      "Título: Moby dick\n",
      "Quantidade de páginas: 500\n",
      "                \n",
      "\n",
      "Título: Tieta\n",
      "Quantidade de páginas: 200\n",
      "                \n"
     ]
    }
   ],
   "source": [
    "# Mostrando os livros da estante\n",
    "\n",
    "minha_estante.mostrar_livros_estante()"
   ]
  },
  {
   "cell_type": "code",
<<<<<<< HEAD
   "execution_count": 314,
=======
   "execution_count": 130,
>>>>>>> d4d3898a6c2af7e8c7f3bf16e429702f591d42fa
   "id": "64093d59",
   "metadata": {},
   "outputs": [
    {
     "ename": "AttributeError",
<<<<<<< HEAD
     "evalue": "'Livro' object has no attribute 'imprimir_percentual_paginas'",
=======
     "evalue": "'Estante' object has no attribute 'leitura'",
>>>>>>> d4d3898a6c2af7e8c7f3bf16e429702f591d42fa
     "output_type": "error",
     "traceback": [
      "\u001b[31m---------------------------------------------------------------------------\u001b[39m",
      "\u001b[31mAttributeError\u001b[39m                            Traceback (most recent call last)",
<<<<<<< HEAD
      "\u001b[36mCell\u001b[39m\u001b[36m \u001b[39m\u001b[32mIn[314]\u001b[39m\u001b[32m, line 1\u001b[39m\n\u001b[32m----> \u001b[39m\u001b[32m1\u001b[39m \u001b[43mminha_estante\u001b[49m\u001b[43m.\u001b[49m\u001b[43mmostrar_progresso_leitura\u001b[49m\u001b[43m(\u001b[49m\u001b[43m)\u001b[49m\n",
      "\u001b[36mCell\u001b[39m\u001b[36m \u001b[39m\u001b[32mIn[304]\u001b[39m\u001b[32m, line 21\u001b[39m, in \u001b[36mEstante.mostrar_progresso_leitura\u001b[39m\u001b[34m(self)\u001b[39m\n\u001b[32m     19\u001b[39m \u001b[38;5;28;01mdef\u001b[39;00m\u001b[38;5;250m \u001b[39m\u001b[34mmostrar_progresso_leitura\u001b[39m(\u001b[38;5;28mself\u001b[39m):\n\u001b[32m     20\u001b[39m     \u001b[38;5;28;01mfor\u001b[39;00m livro \u001b[38;5;129;01min\u001b[39;00m \u001b[38;5;28mself\u001b[39m.meus_livros:\n\u001b[32m---> \u001b[39m\u001b[32m21\u001b[39m         \u001b[43mlivro\u001b[49m\u001b[43m.\u001b[49m\u001b[43mimprimir_percentual_paginas\u001b[49m()\n",
      "\u001b[31mAttributeError\u001b[39m: 'Livro' object has no attribute 'imprimir_percentual_paginas'"
=======
      "\u001b[36mCell\u001b[39m\u001b[36m \u001b[39m\u001b[32mIn[130]\u001b[39m\u001b[32m, line 1\u001b[39m\n\u001b[32m----> \u001b[39m\u001b[32m1\u001b[39m \u001b[43mminha_estante\u001b[49m\u001b[43m.\u001b[49m\u001b[43mmostrar_progresso_leitura\u001b[49m\u001b[43m(\u001b[49m\u001b[43mleitura_tieta\u001b[49m\u001b[43m)\u001b[49m\n",
      "\u001b[36mCell\u001b[39m\u001b[36m \u001b[39m\u001b[32mIn[120]\u001b[39m\u001b[32m, line 23\u001b[39m, in \u001b[36mEstante.mostrar_progresso_leitura\u001b[39m\u001b[34m(self, leitura)\u001b[39m\n\u001b[32m     21\u001b[39m \u001b[38;5;28;01mdef\u001b[39;00m\u001b[38;5;250m \u001b[39m\u001b[34mmostrar_progresso_leitura\u001b[39m(\u001b[38;5;28mself\u001b[39m, leitura):\n\u001b[32m     22\u001b[39m     \u001b[38;5;28;01mfor\u001b[39;00m leitura.livro \u001b[38;5;129;01min\u001b[39;00m \u001b[38;5;28mself\u001b[39m.meus_livros:\n\u001b[32m---> \u001b[39m\u001b[32m23\u001b[39m         \u001b[38;5;28;43mself\u001b[39;49m\u001b[43m.\u001b[49m\u001b[43mleitura\u001b[49m.imprimir_progresso()\n\u001b[32m     25\u001b[39m         \u001b[38;5;28mprint\u001b[39m(\u001b[33mf\u001b[39m\u001b[33m\"\"\"\u001b[39m\u001b[33mTítulo: \u001b[39m\u001b[38;5;132;01m{\u001b[39;00mleitura.titulo\u001b[38;5;132;01m}\u001b[39;00m\n\u001b[32m     26\u001b[39m \u001b[33m            Quantidade de páginas: \u001b[39m\u001b[38;5;132;01m{\u001b[39;00mleitura.quantidade_de_paginas\u001b[38;5;132;01m}\u001b[39;00m\n\u001b[32m     27\u001b[39m \u001b[33m            Páginas restantes: \u001b[39m\u001b[38;5;132;01m{\u001b[39;00mleitura.paginas_restantes\u001b[38;5;132;01m}\u001b[39;00m\u001b[33m\"\"\"\u001b[39m)\n",
      "\u001b[31mAttributeError\u001b[39m: 'Estante' object has no attribute 'leitura'"
>>>>>>> d4d3898a6c2af7e8c7f3bf16e429702f591d42fa
     ]
    }
   ],
   "source": [
    "minha_estante.mostrar_progresso_leitura()"
   ]
  }
 ],
 "metadata": {
  "kernelspec": {
   "display_name": "Python 3",
   "language": "python",
   "name": "python3"
  },
  "language_info": {
   "codemirror_mode": {
    "name": "ipython",
    "version": 3
   },
   "file_extension": ".py",
   "mimetype": "text/x-python",
   "name": "python",
   "nbconvert_exporter": "python",
   "pygments_lexer": "ipython3",
   "version": "3.13.2"
  }
 },
 "nbformat": 4,
 "nbformat_minor": 5
}
