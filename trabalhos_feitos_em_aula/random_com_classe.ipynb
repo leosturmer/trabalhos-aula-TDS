{
 "cells": [
  {
   "cell_type": "markdown",
   "id": "0088e4fa",
   "metadata": {},
   "source": [
    "### Classe Item\n",
    "\n",
    "Vamos usar a função `gerar_nome_item()` para inicializar um objeto tipo item"
   ]
  },
  {
   "cell_type": "code",
   "execution_count": 1,
   "id": "311d79bb",
   "metadata": {},
   "outputs": [
    {
     "name": "stdout",
     "output_type": "stream",
     "text": [
      "Cinturão Lascado\n"
     ]
    }
   ],
   "source": [
    "import random\n",
    "\n",
    "substantivos = [\n",
    "    {'nome' : 'Pedra', 'gênero': 'F'},\n",
    "    {'nome' : 'Cinturão', 'gênero': 'M'},\n",
    "    {'nome' : 'Espada', 'gênero': 'F'},\n",
    "    {'nome' : 'Arco', 'gênero': 'M'},\n",
    "    {'nome' : 'Poção', 'gênero': 'F'},\n",
    "]\n",
    "\n",
    "adjetivos = [\n",
    "    {'F': 'Lascada', 'M': 'Lascado'},\n",
    "    {'F': 'Épica', 'M': 'Épico'},\n",
    "    {'F': 'Lendária', 'M': 'Lendário'},\n",
    "    {'F': 'Resistente', 'M': 'Resistente'},\n",
    "    {'F': 'Brilhante', 'M': 'Brilhante'},\n",
    "]\n",
    "\n",
    "nome = random.choice(substantivos)\n",
    "adjetivo = random.choice(adjetivos)\n",
    "\n",
    "genero_subst = nome['gênero']\n",
    "\n",
    "\n",
    "print(nome['nome'], adjetivo[genero_subst])\n",
    "\n",
    "\n"
   ]
  },
  {
   "cell_type": "code",
   "execution_count": 2,
   "id": "76f3d04d",
   "metadata": {},
   "outputs": [
    {
     "name": "stdout",
     "output_type": "stream",
     "text": [
      "Cinturão Lascado\n"
     ]
    }
   ],
   "source": [
    "class Item():\n",
    "    def __init__(self):\n",
    "        self.nome = self.gerar_nome_item()\n",
    "\n",
    "    def gerar_nome_item(self):\n",
    "        substantivos = [\n",
    "            {'nome' : 'Pedra', 'gênero': 'F'},\n",
    "            {'nome' : 'Cinturão', 'gênero': 'M'},\n",
    "            {'nome' : 'Espada', 'gênero': 'F'},\n",
    "            {'nome' : 'Arco', 'gênero': 'M'},\n",
    "            {'nome' : 'Poção', 'gênero': 'F'},\n",
    "        ]\n",
    "\n",
    "        adjetivos = [\n",
    "            {'F': 'Lascada', 'M': 'Lascado'},\n",
    "            {'F': 'Épica', 'M': 'Épico'},\n",
    "            {'F': 'Lendária', 'M': 'Lendário'},\n",
    "            {'F': 'Resistente', 'M': 'Resistente'},\n",
    "            {'F': 'Brilhante', 'M': 'Brilhante'},\n",
    "        ]\n",
    "\n",
    "        nome = random.choice(substantivos)\n",
    "        adjetivo = random.choice(adjetivos)\n",
    "\n",
    "        genero_subst = nome['gênero']\n",
    "\n",
    "        return f'{nome['nome']} {adjetivo[genero_subst]}'\n",
    "\n",
    "    def __str__(self):\n",
    "        return self.nome\n",
    "\n",
    "\n",
    "print(nome['nome'], adjetivo[genero_subst])\n",
    "\n",
    "    "
   ]
  },
  {
   "cell_type": "code",
   "execution_count": 3,
   "id": "c22b78d0",
   "metadata": {},
   "outputs": [
    {
     "name": "stdout",
     "output_type": "stream",
     "text": [
      "Poção Lascada\n",
      "Arco Lascado\n",
      "Cinturão Épico\n"
     ]
    }
   ],
   "source": [
    "### Instanciar 3 itens\n",
    "\n",
    "i1 = Item()\n",
    "i2 = Item()\n",
    "i3 = Item()\n",
    "\n",
    "print(i1)\n",
    "print(i2)\n",
    "print(i3)\n",
    "\n"
   ]
  },
  {
   "cell_type": "code",
   "execution_count": 15,
   "id": "2aeb226e",
   "metadata": {},
   "outputs": [
    {
     "name": "stdout",
     "output_type": "stream",
     "text": [
      "7\n",
      "['Poção Brilhante', 'Arco Resistente', 'Poção Lendária', 'Arco Lendário', 'Pedra Resistente', 'Poção Brilhante', 'Pedra Resistente']\n",
      "7\n"
     ]
    }
   ],
   "source": [
    "import random\n",
    "\n",
    "### Baú\n",
    "\n",
    "class Bau():\n",
    "    def __init__(self):\n",
    "        self.capacidade = self.capacidade_do_bau()   \n",
    "        self.itens = self.sortear_itens_bau()\n",
    "             \n",
    "\n",
    "    def capacidade_do_bau(self):\n",
    "        tamanho_max_bau = [1,2,3,4,5,6,7,8,9,10]\n",
    "\n",
    "        capacidade = random.choice(tamanho_max_bau)\n",
    "\n",
    "        return capacidade    \n",
    "\n",
    "    def sortear_itens_bau(self):\n",
    "        \n",
    "        itens = []\n",
    "        \n",
    "        capacidade_do_bau = self.capacidade\n",
    "\n",
    "        while len(itens) < capacidade_do_bau:\n",
    "            # novo_item = Item().gerar_nome_item()\n",
    "            itens.append(Item().gerar_nome_item())\n",
    "\n",
    "        return itens\n",
    "    \n",
    "    \n",
    "\n",
    "bau1 = Bau()\n",
    "\n",
    "print(len(bau1.itens))\n",
    "\n",
    "print(bau1.itens)\n",
    "\n",
    "print(bau1.capacidade)\n"
   ]
  }
 ],
 "metadata": {
  "kernelspec": {
   "display_name": "Python 3",
   "language": "python",
   "name": "python3"
  },
  "language_info": {
   "codemirror_mode": {
    "name": "ipython",
    "version": 3
   },
   "file_extension": ".py",
   "mimetype": "text/x-python",
   "name": "python",
   "nbconvert_exporter": "python",
   "pygments_lexer": "ipython3",
   "version": "3.13.2"
  }
 },
 "nbformat": 4,
 "nbformat_minor": 5
}
