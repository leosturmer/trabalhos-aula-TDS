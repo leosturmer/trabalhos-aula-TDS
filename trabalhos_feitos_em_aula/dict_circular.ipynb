{
 "cells": [
  {
   "cell_type": "code",
   "execution_count": 5,
   "id": "2ce6b343",
   "metadata": {},
   "outputs": [],
   "source": [
    "mensagens = {1: \"Acredite em si mesmo e você será imparável.\", \n",
    "2: \"Cada dia é uma nova oportunidade para brilhar.\" ,\n",
    "3: \"Se você pode sonhar, pode realizar.\" ,\n",
    "4: \"A persistência leva ao sucesso.\" ,\n",
    "5: \"A jornada mais longa começa com um único passo.\" ,\n",
    "6: \"Sua determinação é sua maior força.\" ,\n",
    "7: \"Não deixe que a preguiça seja maior do que sua vontade de alcançar seus sonhos.\" ,\n",
    "8: \"Se rirem de você por ser diferente, ria dos demais por serem todos iguais.\" ,\n",
    "9: \"Não importa o quão difícil seja o caminho, lembre-se que a jornada vale a pena no final.\" ,\n",
    "10: \"Se você acredita que pode, já está a meio caminho de alcançar o que tanto quer.\"}"
   ]
  },
  {
   "cell_type": "code",
   "execution_count": 6,
   "id": "ea38ad9a",
   "metadata": {},
   "outputs": [
    {
     "name": "stdout",
     "output_type": "stream",
     "text": [
      "{1: 'Acredite em si mesmo e você será imparável.', 2: 'Cada dia é uma nova oportunidade para brilhar.', 3: 'Se você pode sonhar, pode realizar.', 4: 'A persistência leva ao sucesso.', 5: 'A jornada mais longa começa com um único passo.', 6: 'Sua determinação é sua maior força.', 7: 'Não deixe que a preguiça seja maior do que sua vontade de alcançar seus sonhos.', 8: 'Se rirem de você por ser diferente, ria dos demais por serem todos iguais.', 9: 'Não importa o quão difícil seja o caminho, lembre-se que a jornada vale a pena no final.', 10: 'Se você acredita que pode, já está a meio caminho de alcançar o que tanto quer.'}\n"
     ]
    }
   ],
   "source": [
    "print(mensagens)"
   ]
  },
  {
   "cell_type": "code",
   "execution_count": 7,
   "id": "842f87a5",
   "metadata": {},
   "outputs": [
    {
     "data": {
      "text/plain": [
       "10"
      ]
     },
     "execution_count": 7,
     "metadata": {},
     "output_type": "execute_result"
    }
   ],
   "source": [
    "len(mensagens)"
   ]
  },
  {
   "cell_type": "code",
   "execution_count": 16,
   "id": "f6e56099",
   "metadata": {},
   "outputs": [
    {
     "name": "stdout",
     "output_type": "stream",
     "text": [
      "Mensagem do dia: 1: Acredite em si mesmo e você será imparável.\n",
      "Mensagem do dia: 2: Cada dia é uma nova oportunidade para brilhar.\n",
      "Mensagem do dia: 3: Se você pode sonhar, pode realizar.\n",
      "Mensagem do dia: 4: A persistência leva ao sucesso.\n",
      "Mensagem do dia: 5: A jornada mais longa começa com um único passo.\n",
      "Mensagem do dia: 6: Sua determinação é sua maior força.\n",
      "Mensagem do dia: 7: Não deixe que a preguiça seja maior do que sua vontade de alcançar seus sonhos.\n",
      "Mensagem do dia: 8: Se rirem de você por ser diferente, ria dos demais por serem todos iguais.\n",
      "Mensagem do dia: 9: Não importa o quão difícil seja o caminho, lembre-se que a jornada vale a pena no final.\n",
      "Mensagem do dia: 10: Se você acredita que pode, já está a meio caminho de alcançar o que tanto quer.\n",
      "Mensagem do dia: 1: Acredite em si mesmo e você será imparável.\n",
      "Mensagem do dia: 2: Cada dia é uma nova oportunidade para brilhar.\n",
      "Mensagem do dia: 3: Se você pode sonhar, pode realizar.\n",
      "Mensagem do dia: 4: A persistência leva ao sucesso.\n",
      "Mensagem do dia: 5: A jornada mais longa começa com um único passo.\n",
      "Mensagem do dia: 6: Sua determinação é sua maior força.\n",
      "Mensagem do dia: 7: Não deixe que a preguiça seja maior do que sua vontade de alcançar seus sonhos.\n",
      "Mensagem do dia: 8: Se rirem de você por ser diferente, ria dos demais por serem todos iguais.\n",
      "Mensagem do dia: 9: Não importa o quão difícil seja o caminho, lembre-se que a jornada vale a pena no final.\n",
      "Mensagem do dia: 10: Se você acredita que pode, já está a meio caminho de alcançar o que tanto quer.\n",
      "Mensagem do dia: 1: Acredite em si mesmo e você será imparável.\n"
     ]
    }
   ],
   "source": [
    "contador = 1\n",
    "imprimir_nova_mensagem = ''\n",
    "\n",
    "while imprimir_nova_mensagem != 'n':\n",
    "        if contador <= len(mensagens):\n",
    "               print(f'Mensagem do dia: {contador}: {mensagens[contador]}')\n",
    "               imprimir_nova_mensagem = input(\"Deseja ler outra mensagem? Tecle 'n' para parar \")\n",
    "               contador += 1\n",
    "        else:\n",
    "                contador = 1\n",
    "            "
   ]
  }
 ],
 "metadata": {
  "kernelspec": {
   "display_name": "Python 3",
   "language": "python",
   "name": "python3"
  },
  "language_info": {
   "codemirror_mode": {
    "name": "ipython",
    "version": 3
   },
   "file_extension": ".py",
   "mimetype": "text/x-python",
   "name": "python",
   "nbconvert_exporter": "python",
   "pygments_lexer": "ipython3",
   "version": "3.13.2"
  }
 },
 "nbformat": 4,
 "nbformat_minor": 5
}
