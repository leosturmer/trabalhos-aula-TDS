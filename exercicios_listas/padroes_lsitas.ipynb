{
 "cells": [
  {
   "cell_type": "markdown",
   "id": "3d11dad0",
   "metadata": {},
   "source": [
    "FiFo (first in - first out)\n",
    "\n",
    "LiFo (last in - first out)"
   ]
  },
  {
   "cell_type": "code",
   "execution_count": null,
   "id": "106d4298",
   "metadata": {},
   "outputs": [],
   "source": []
  }
 ],
 "metadata": {
  "language_info": {
   "name": "python"
  }
 },
 "nbformat": 4,
 "nbformat_minor": 5
}
