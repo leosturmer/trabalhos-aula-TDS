{
 "cells": [
  {
   "cell_type": "code",
   "execution_count": 17,
   "id": "0296f154",
   "metadata": {},
   "outputs": [],
   "source": [
    "lista_de_palavras = ['Accomplice', 'Acreage', 'Asthma', 'Bingeing', 'Brinkmanship', 'Buddhist', 'Bureaucracy', 'Demographic', 'Demoralize', 'Overarching', 'Passivizing', 'Pathetically', 'Patroller','Rookie', 'Roulette', 'Rustling', 'Shallots',  'Whether', 'Whirring', 'Whisperer']"
   ]
  },
  {
   "cell_type": "code",
   "execution_count": 18,
   "id": "e009dce4",
   "metadata": {},
   "outputs": [],
   "source": [
    "lista_backup = lista_de_palavras.copy()"
   ]
  },
  {
   "cell_type": "code",
   "execution_count": 19,
   "id": "222d7ab0",
   "metadata": {},
   "outputs": [
    {
     "name": "stdout",
     "output_type": "stream",
     "text": [
      "Accomplice\n"
     ]
    }
   ],
   "source": [
    "### Escolhendo um número para sortear a palavra\n",
    "\n",
    "numero_da_palavra = int(input('Digite um número entre 0 e 249 para ver a palavra: '))\n",
    "\n",
    "print(lista_de_palavras[numero_da_palavra])\n"
   ]
  },
  {
   "cell_type": "code",
   "execution_count": 20,
   "id": "7023bead",
   "metadata": {},
   "outputs": [
    {
     "name": "stdout",
     "output_type": "stream",
     "text": [
      "A palavra Asthma está na lista\n"
     ]
    }
   ],
   "source": [
    "### Conferindo se a palavra está na lista\n",
    "\n",
    "conferir_palavra = input('Digite a palavra: ')\n",
    "\n",
    "if conferir_palavra in lista_de_palavras:\n",
    "    print(f'A palavra {conferir_palavra} está na lista')\n",
    "else:\n",
    "    print(f'A palavra {conferir_palavra} não está na lista ou foi escrita incorretamente')"
   ]
  },
  {
   "cell_type": "code",
   "execution_count": null,
   "id": "f9fa24d9",
   "metadata": {},
   "outputs": [
    {
     "name": "stdout",
     "output_type": "stream",
     "text": [
      "A palavra Asthma está na lista\n"
     ]
    }
   ],
   "source": [
    "### Conferindo e removendo a palavra acertada da lista\n",
    "\n",
    "conferir_palavra = input('Digite a palavra: ')\n",
    "\n",
    "if conferir_palavra in lista_de_palavras:\n",
    "    print(f'A palavra {conferir_palavra} está na lista')\n",
    "    lista_de_palavras.remove(conferir_palavra)\n",
    "else:\n",
    "    print(f'A palavra {conferir_palavra} não está na lista ou foi escrita incorretamente')"
   ]
  }
 ],
 "metadata": {
  "kernelspec": {
   "display_name": "Python 3",
   "language": "python",
   "name": "python3"
  },
  "language_info": {
   "codemirror_mode": {
    "name": "ipython",
    "version": 3
   },
   "file_extension": ".py",
   "mimetype": "text/x-python",
   "name": "python",
   "nbconvert_exporter": "python",
   "pygments_lexer": "ipython3",
   "version": "3.13.2"
  }
 },
 "nbformat": 4,
 "nbformat_minor": 5
}
