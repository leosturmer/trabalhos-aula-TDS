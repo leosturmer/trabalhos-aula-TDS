{
 "cells": [
  {
   "cell_type": "markdown",
   "id": "51289ed1",
   "metadata": {},
   "source": [
    "#### Listas Python\n",
    "\n",
    "Métodos que modificam a lista:\n",
    "\n",
    "- append(): adiciona item no final da lista\n",
    "- clear(): limpa a lista\n",
    "- insert(posição, elemento): coloca um elemento em determinada posição da lista\n",
    "- pop(): remove da lista. Pode colocar a posição da lista que quer remover\n",
    "- remove(): remove o item específico da lista\n",
    "- reverse(): coloca a lista ao contrário\n",
    "\n",
    "\n",
    "Métodos que dão informações sobre a lista:\n",
    "- count(): conta quantas vezes aquele elemento está na lista\n",
    "- index(): retorna a posição do elemento na lista\n",
    "\n",
    "\n",
    "Métodos para usar em outras variáveis:\n",
    "- copy(): copia a lista em uma nova variável\n",
    "- extend(): adiciona uma lista a outra lista\n",
    "\n",
    "\n"
   ]
  },
  {
   "cell_type": "code",
   "execution_count": 85,
   "id": "34b4ce4d",
   "metadata": {},
   "outputs": [],
   "source": [
    "lista_de_palavras = ['Accomplice', 'Acreage', 'Asthma', 'Bingeing', 'Brinkmanship', 'Buddhist', 'Bureaucracy', 'Demographic', 'Demoralize', 'Overarching', 'Passivizing', 'Pathetically', 'Patroller','Rookie', 'Roulette', 'Rustling', 'Shallots',  'Whether', 'Whirring', 'Whisperer']"
   ]
  },
  {
   "cell_type": "code",
   "execution_count": 88,
   "id": "e273039a",
   "metadata": {},
   "outputs": [
    {
     "name": "stdout",
     "output_type": "stream",
     "text": [
      "Brinkmanship\n"
     ]
    }
   ],
   "source": [
    "print(lista_de_palavras[4])"
   ]
  },
  {
   "cell_type": "code",
   "execution_count": 89,
   "id": "cad1f2b1",
   "metadata": {},
   "outputs": [
    {
     "name": "stdout",
     "output_type": "stream",
     "text": [
      "Bingeing\n"
     ]
    }
   ],
   "source": [
    "numero = int(input('Digite um número para ver a palavra: '))\n",
    "\n",
    "print(lista_de_palavras[numero])\n"
   ]
  },
  {
   "cell_type": "code",
   "execution_count": 86,
   "id": "18549d44",
   "metadata": {},
   "outputs": [
    {
     "data": {
      "text/plain": [
       "20"
      ]
     },
     "execution_count": 86,
     "metadata": {},
     "output_type": "execute_result"
    }
   ],
   "source": [
    "len(lista_de_palavras)"
   ]
  },
  {
   "cell_type": "code",
   "execution_count": 74,
   "id": "bcc490cd",
   "metadata": {},
   "outputs": [
    {
     "name": "stdout",
     "output_type": "stream",
     "text": [
      "['Accomplice', 'Acreage', 'Asthma', 'Bingeing', 'Brinkmanship', 'Buddhist', 'Bureaucracy', 'Demographic', 'Demoralize', 'Overarching', 'Passivizing', 'Pathetically', 'Patroller', 'Rookie', 'Roulette', 'Rustling', 'Shallots', 'Whether', 'Whirring', 'Whisperer']\n"
     ]
    }
   ],
   "source": [
    "print(lista_de_palavras)"
   ]
  },
  {
   "cell_type": "code",
   "execution_count": 75,
   "id": "65f4ad18",
   "metadata": {},
   "outputs": [
    {
     "name": "stdout",
     "output_type": "stream",
     "text": [
      "['Accomplice', 'Asthma', 'Bingeing', 'Brinkmanship', 'Buddhist', 'Bureaucracy', 'Demographic', 'Demoralize', 'Overarching', 'Passivizing', 'Pathetically', 'Patroller', 'Rookie', 'Roulette', 'Rustling', 'Shallots', 'Whether', 'Whirring', 'Whisperer']\n"
     ]
    }
   ],
   "source": [
    "lista_de_palavras.remove('Acreage')\n",
    "\n",
    "print(lista_de_palavras)"
   ]
  },
  {
   "cell_type": "code",
   "execution_count": 76,
   "id": "f541a036",
   "metadata": {},
   "outputs": [
    {
     "name": "stdout",
     "output_type": "stream",
     "text": [
      "1\n"
     ]
    }
   ],
   "source": [
    "lista_de_palavras.count('Asthma')\n",
    "\n",
    "print(lista_de_palavras.count('Brinkmanship'))"
   ]
  },
  {
   "cell_type": "code",
   "execution_count": 77,
   "id": "194bf22d",
   "metadata": {},
   "outputs": [
    {
     "name": "stdout",
     "output_type": "stream",
     "text": [
      "['Accomplice', 'Asthma', 'Bingeing', 'Brinkmanship', 'Buddhist', 'Bureaucracy', 'Demographic', 'Demoralize', 'Overarching', 'Passivizing', 'Pathetically', 'Patroller', 'Rookie', 'Roulette', 'Rustling', 'Shallots', 'Whether', 'Whirring', 'Whisperer']\n",
      "['Buddhist', 'Accomplice', 'Asthma', 'Bingeing', 'Brinkmanship', 'Buddhist', 'Bureaucracy', 'Demographic', 'Demoralize', 'Overarching', 'Passivizing', 'Pathetically', 'Patroller', 'Rookie', 'Roulette', 'Rustling', 'Shallots', 'Whether', 'Whirring', 'Whisperer']\n"
     ]
    }
   ],
   "source": [
    "print(lista_de_palavras)\n",
    "\n",
    "lista_de_palavras.insert(0, 'Buddhist')\n",
    "\n",
    "print(lista_de_palavras)"
   ]
  },
  {
   "cell_type": "code",
   "execution_count": 78,
   "id": "37145b73",
   "metadata": {},
   "outputs": [
    {
     "name": "stdout",
     "output_type": "stream",
     "text": [
      "['Buddhist', 'Accomplice', 'Asthma', 'Bingeing', 'Brinkmanship', 'Buddhist', 'Bureaucracy', 'Demographic', 'Demoralize', 'Overarching', 'Passivizing', 'Pathetically', 'Patroller', 'Rookie', 'Roulette', 'Rustling', 'Shallots', 'Whether', 'Whirring', 'Whisperer']\n",
      "['Buddhist', 'Asthma', 'Bingeing', 'Brinkmanship', 'Buddhist', 'Bureaucracy', 'Demographic', 'Demoralize', 'Overarching', 'Passivizing', 'Pathetically', 'Patroller', 'Rookie', 'Roulette', 'Rustling', 'Shallots', 'Whether', 'Whirring', 'Whisperer']\n"
     ]
    }
   ],
   "source": [
    "print(lista_de_palavras)\n",
    "\n",
    "lista_de_palavras.pop(1)\n",
    "\n",
    "print(lista_de_palavras)"
   ]
  },
  {
   "cell_type": "code",
   "execution_count": 79,
   "id": "2a118f25",
   "metadata": {},
   "outputs": [
    {
     "name": "stdout",
     "output_type": "stream",
     "text": [
      "['Buddhist', 'Asthma', 'Bingeing', 'Brinkmanship', 'Buddhist', 'Bureaucracy', 'Demographic', 'Overarching', 'Passivizing', 'Pathetically', 'Patroller', 'Rookie', 'Roulette', 'Rustling', 'Shallots', 'Whether', 'Whirring', 'Whisperer']\n"
     ]
    }
   ],
   "source": [
    "lista_de_palavras.remove('Demoralize')\n",
    "\n",
    "print(lista_de_palavras)"
   ]
  },
  {
   "cell_type": "code",
   "execution_count": 81,
   "id": "f07cb236",
   "metadata": {},
   "outputs": [
    {
     "name": "stdout",
     "output_type": "stream",
     "text": [
      "['Whisperer', 'Whirring', 'Whether', 'Shallots', 'Rustling', 'Roulette', 'Rookie', 'Patroller', 'Pathetically', 'Passivizing', 'Overarching', 'Demographic', 'Bureaucracy', 'Buddhist', 'Brinkmanship', 'Bingeing', 'Asthma', 'Buddhist']\n"
     ]
    }
   ],
   "source": [
    "lista_de_palavras.reverse()\n",
    "\n",
    "print(lista_de_palavras)"
   ]
  },
  {
   "cell_type": "code",
   "execution_count": 83,
   "id": "a04843f3",
   "metadata": {},
   "outputs": [],
   "source": [
    "lista_de_palavras.sort()\n"
   ]
  }
 ],
 "metadata": {
  "kernelspec": {
   "display_name": "Python 3",
   "language": "python",
   "name": "python3"
  },
  "language_info": {
   "codemirror_mode": {
    "name": "ipython",
    "version": 3
   },
   "file_extension": ".py",
   "mimetype": "text/x-python",
   "name": "python",
   "nbconvert_exporter": "python",
   "pygments_lexer": "ipython3",
   "version": "3.13.2"
  }
 },
 "nbformat": 4,
 "nbformat_minor": 5
}
