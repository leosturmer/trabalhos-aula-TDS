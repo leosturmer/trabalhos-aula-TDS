{
 "cells": [
  {
   "cell_type": "markdown",
   "id": "ef27c1a5",
   "metadata": {},
   "source": [
    "## Trabalho: Gerador de nomes de itens"
   ]
  },
  {
   "cell_type": "markdown",
   "id": "b36a69a7",
   "metadata": {},
   "source": [
    "Usando listas, escreva uma `função` que retorna um nome aleatório para ser usado como nome de um item em um jogo do tipo `rogue`.\n",
    "\n",
    "Exemplo de uso:\n",
    "\n",
    "```python\n",
    "\n",
    "nome_do_item = gerar_nome_item()\n",
    "\n",
    "```\n"
   ]
  },
  {
   "cell_type": "markdown",
   "id": "42eb7766",
   "metadata": {},
   "source": [
    "## Estratégia de implementação\n",
    "\n",
    "**Possibilidade 1.** Você pode ter uma lista com vários nomes prontos e sortear um deles da lista para retornar como resposta\n",
    "\n",
    "**Possibilidade 2.** Você pode ter várias listas, cada uma contendo uma parte do nome (nome, qualidade, complemento) e gerar o nome assim:\n",
    "- sortear o nome da lista de nomes\n",
    "- sortear a qualidade da lista de qualidades\n",
    "- sortear o complemento da lista de complementos\n",
    "- e compor o nome a ser retornado a partir da concatenação de cada uma das três partes\n",
    "\n",
    "Exemplo de conteúdos para a lista\n",
    "\n",
    "- nome: Gema, Espada, Pedra, Rocha\n",
    "- qualidade: Lilás, Arcaica, Assassina Silenciosa\n",
    "- complemento: de Mangur, de Minos, perfeita, rota, de Ezod"
   ]
  },
  {
   "cell_type": "markdown",
   "id": "43fa25fb",
   "metadata": {},
   "source": [
    "### Dica\n",
    "\n",
    "Para fazer o sorteio, usar as funções do pacote `random`"
   ]
  },
  {
   "cell_type": "code",
   "execution_count": null,
   "id": "153355b3",
   "metadata": {},
   "outputs": [],
   "source": [
    "import random\n",
    "\n",
    "random.random()\n",
    "random.choice()\n"
   ]
  },
  {
   "cell_type": "code",
   "execution_count": 1,
   "id": "8a488e68",
   "metadata": {},
   "outputs": [
    {
     "name": "stdout",
     "output_type": "stream",
     "text": [
      "Canivete de éter de Hebra\n"
     ]
    }
   ],
   "source": [
    "import random\n",
    "\n",
    "lista_nomes = ['Espada', 'Canivete', 'Escudo', 'Varinha', 'Arco e flecha', 'Katana', 'Punhal']\n",
    "lista_qualidades = ['de fogo', 'de gelo', 'de eletricidade', 'de éter', 'mágica', 'mestre', 'inquebrável']\n",
    "lista_complementos = ['de Hyrule', 'de Akkala', 'de Gerudo', 'de Hebra', 'de Lanayru', 'de Goron']\n",
    "\n",
    "\n",
    "def gerar_nome(lista):\n",
    "    caracteristica = random.choice(lista)\n",
    "    \n",
    "    return caracteristica\n",
    "\n",
    "nome = gerar_nome(lista_nomes)\n",
    "qualidade = gerar_nome(lista_qualidades)\n",
    "complemento = gerar_nome(lista_complementos)\n",
    "\n",
    "print(f'{nome} {qualidade} {complemento}')\n",
    "\n",
    "\n"
   ]
  }
 ],
 "metadata": {
  "kernelspec": {
   "display_name": "Python 3",
   "language": "python",
   "name": "python3"
  },
  "language_info": {
   "codemirror_mode": {
    "name": "ipython",
    "version": 3
   },
   "file_extension": ".py",
   "mimetype": "text/x-python",
   "name": "python",
   "nbconvert_exporter": "python",
   "pygments_lexer": "ipython3",
   "version": "3.13.2"
  }
 },
 "nbformat": 4,
 "nbformat_minor": 5
}
