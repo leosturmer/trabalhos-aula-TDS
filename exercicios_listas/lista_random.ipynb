{
 "cells": [
  {
   "cell_type": "code",
   "execution_count": 1,
   "id": "0b8106ef",
   "metadata": {},
   "outputs": [
    {
     "name": "stdout",
     "output_type": "stream",
     "text": [
      "Escudo de eletricidade de Lanayru\n"
     ]
    }
   ],
   "source": [
    "import random\n",
    "\n",
    "lista_nomes = ['Espada', 'Canivete', 'Escudo', 'Varinha', 'Arco e flecha', 'Katana', 'Punhal']\n",
    "lista_qualidades = ['de fogo', 'de gelo', 'de eletricidade', 'de éter', 'mágica', 'mestre', 'inquebrável']\n",
    "lista_complementos = ['de Hyrule', 'de Akkala', 'de Gerudo', 'de Hebra', 'de Lanayru', 'de Goron']\n",
    "\n",
    "\n",
    "def gerar_nome(lista):\n",
    "    caracteristica = random.choice(lista)\n",
    "    \n",
    "    return caracteristica\n",
    "\n",
    "nome = gerar_nome(lista_nomes)\n",
    "qualidade = gerar_nome(lista_qualidades)\n",
    "complemento = gerar_nome(lista_complementos)\n",
    "\n",
    "print(f'{nome} {qualidade} {complemento}')\n",
    "\n",
    "\n"
   ]
  }
 ],
 "metadata": {
  "kernelspec": {
   "display_name": "Python 3",
   "language": "python",
   "name": "python3"
  },
  "language_info": {
   "codemirror_mode": {
    "name": "ipython",
    "version": 3
   },
   "file_extension": ".py",
   "mimetype": "text/x-python",
   "name": "python",
   "nbconvert_exporter": "python",
   "pygments_lexer": "ipython3",
   "version": "3.13.2"
  }
 },
 "nbformat": 4,
 "nbformat_minor": 5
}
