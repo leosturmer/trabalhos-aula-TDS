{
 "cells": [
  {
   "cell_type": "markdown",
   "id": "4985b47f",
   "metadata": {},
   "source": [
    "#### Dictionaries Python\n",
    "\n",
    "Métodos que modificam o dicionário:\n",
    "\n",
    "- clear(): limpa o dicionário\n",
    "- pop(): remove o elemento daquela chave específica\n",
    "- popitem(): remove o último valor inserido (chave-valor)\n",
    "\n",
    "Métodos para consultar no dicionário:\n",
    "- fromkeys(): cria chaves\n",
    "- get(): retorna o valor de uma chave específica\n",
    "- items(): retorna lista com as tuplas do dicionário\n",
    "- keys(): retorna as chaves do dicionário\n",
    "- setdefault(): retorna o valor de uma chave específica\n",
    "- update({key : value}): altera/adiciona o valor no dicionário\n",
    "- values(): retorna todos os valores presentes no dicionário\n",
    "\n",
    "Métodos para usar em outra variável:\n",
    "- copy(): copia o dicionário\n",
    "\n",
    "\n",
    "https://www.geeksforgeeks.org/python-convert-a-list-to-dictionary/"
   ]
  },
  {
   "cell_type": "code",
   "execution_count": 32,
   "id": "a9a4c990",
   "metadata": {},
   "outputs": [],
   "source": [
    "dicionario = {1:'A', 2:'B', 3:'C', 4:'D', 5:'E'}"
   ]
  },
  {
   "cell_type": "code",
   "execution_count": 33,
   "id": "f34e9a02",
   "metadata": {},
   "outputs": [
    {
     "data": {
      "text/plain": [
       "{'B': None}"
      ]
     },
     "execution_count": 33,
     "metadata": {},
     "output_type": "execute_result"
    }
   ],
   "source": [
    "dicionario.fromkeys('B')"
   ]
  },
  {
   "cell_type": "code",
   "execution_count": 51,
   "id": "cbd7b194",
   "metadata": {},
   "outputs": [
    {
     "name": "stdout",
     "output_type": "stream",
     "text": [
      "{'key1': 0, 'key2': 0, 'key3': 0}\n"
     ]
    }
   ],
   "source": [
    "x = ('key1', 'key2', 'key3')\n",
    "y = 0\n",
    "\n",
    "thisdict = dict.fromkeys(x, y)\n",
    "\n",
    "print(thisdict)"
   ]
  },
  {
   "cell_type": "code",
   "execution_count": 34,
   "id": "d1f2eaee",
   "metadata": {},
   "outputs": [
    {
     "data": {
      "text/plain": [
       "'C'"
      ]
     },
     "execution_count": 34,
     "metadata": {},
     "output_type": "execute_result"
    }
   ],
   "source": [
    "dicionario.get(3)"
   ]
  },
  {
   "cell_type": "code",
   "execution_count": 35,
   "id": "c4c7aa88",
   "metadata": {},
   "outputs": [
    {
     "data": {
      "text/plain": [
       "dict_items([(1, 'A'), (2, 'B'), (3, 'C'), (4, 'D'), (5, 'E')])"
      ]
     },
     "execution_count": 35,
     "metadata": {},
     "output_type": "execute_result"
    }
   ],
   "source": [
    "dicionario.items()"
   ]
  },
  {
   "cell_type": "code",
   "execution_count": 36,
   "id": "4713acba",
   "metadata": {},
   "outputs": [
    {
     "data": {
      "text/plain": [
       "dict_keys([1, 2, 3, 4, 5])"
      ]
     },
     "execution_count": 36,
     "metadata": {},
     "output_type": "execute_result"
    }
   ],
   "source": [
    "dicionario.keys()"
   ]
  },
  {
   "cell_type": "code",
   "execution_count": 37,
   "id": "7265e499",
   "metadata": {},
   "outputs": [
    {
     "data": {
      "text/plain": [
       "'C'"
      ]
     },
     "execution_count": 37,
     "metadata": {},
     "output_type": "execute_result"
    }
   ],
   "source": [
    "dicionario.pop(3)"
   ]
  },
  {
   "cell_type": "code",
   "execution_count": 38,
   "id": "801eec96",
   "metadata": {},
   "outputs": [
    {
     "name": "stdout",
     "output_type": "stream",
     "text": [
      "{1: 'A', 2: 'B', 4: 'D', 5: 'E'}\n"
     ]
    }
   ],
   "source": [
    "print(dicionario)"
   ]
  },
  {
   "cell_type": "code",
   "execution_count": 39,
   "id": "660f7700",
   "metadata": {},
   "outputs": [
    {
     "name": "stdout",
     "output_type": "stream",
     "text": [
      "{1: 'A', 2: 'B', 4: 'D'}\n"
     ]
    }
   ],
   "source": [
    "dicionario.popitem()\n",
    "\n",
    "print(dicionario)"
   ]
  },
  {
   "cell_type": "code",
   "execution_count": 40,
   "id": "f72e496a",
   "metadata": {},
   "outputs": [
    {
     "name": "stdout",
     "output_type": "stream",
     "text": [
      "{1: 'A', 2: 'B', 4: 'D'}\n"
     ]
    }
   ],
   "source": [
    "dicionario.setdefault(1)\n",
    "\n",
    "print(dicionario)"
   ]
  },
  {
   "cell_type": "code",
   "execution_count": 41,
   "id": "bdbcb2cc",
   "metadata": {},
   "outputs": [
    {
     "data": {
      "text/plain": [
       "dict_values(['A', 'B', 'D'])"
      ]
     },
     "execution_count": 41,
     "metadata": {},
     "output_type": "execute_result"
    }
   ],
   "source": [
    "dicionario.values()"
   ]
  },
  {
   "cell_type": "code",
   "execution_count": 49,
   "id": "7b317a64",
   "metadata": {},
   "outputs": [
    {
     "name": "stdout",
     "output_type": "stream",
     "text": [
      "{1: 'a', 2: 'B', 4: 'D', 5: 'e'}\n"
     ]
    }
   ],
   "source": [
    "dicionario.update({5: 'e'})\n",
    "\n",
    "print(dicionario)"
   ]
  },
  {
   "cell_type": "code",
   "execution_count": 50,
   "id": "b3fe76c4",
   "metadata": {},
   "outputs": [
    {
     "data": {
      "text/plain": [
       "dict_values(['a', 'B', 'D', 'e'])"
      ]
     },
     "execution_count": 50,
     "metadata": {},
     "output_type": "execute_result"
    }
   ],
   "source": [
    "dicionario.values()"
   ]
  }
 ],
 "metadata": {
  "kernelspec": {
   "display_name": "Python 3",
   "language": "python",
   "name": "python3"
  },
  "language_info": {
   "codemirror_mode": {
    "name": "ipython",
    "version": 3
   },
   "file_extension": ".py",
   "mimetype": "text/x-python",
   "name": "python",
   "nbconvert_exporter": "python",
   "pygments_lexer": "ipython3",
   "version": "3.13.2"
  }
 },
 "nbformat": 4,
 "nbformat_minor": 5
}
