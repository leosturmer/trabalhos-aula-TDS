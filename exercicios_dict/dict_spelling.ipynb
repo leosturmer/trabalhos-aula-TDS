{
 "cells": [
  {
   "cell_type": "code",
   "execution_count": null,
   "id": "877380df",
   "metadata": {},
   "outputs": [],
   "source": [
    "lista_de_palavras = {\n",
    "    1 : 'Accomplice', \n",
    "    2 : 'Acreage', \n",
    "    3: 'Asthma', \n",
    "    4 : 'Bingeing', \n",
    "    5 : 'Brinkmanship',\n",
    "    6 : 'Buddhist', \n",
    "    7 : 'Bureaucracy', \n",
    "    8 : 'Demographic', \n",
    "    9 : 'Demoralize', \n",
    "    10 : 'Overarching', \n",
    "    11 : 'Passivizing', \n",
    "    }"
   ]
  },
  {
   "cell_type": "code",
   "execution_count": null,
   "id": "4b52b668",
   "metadata": {},
   "outputs": [
    {
     "name": "stdout",
     "output_type": "stream",
     "text": [
      "Accomplice\n"
     ]
    }
   ],
   "source": [
    "### Conferindo a palavra pela chave que está no dicionário\n",
    "\n",
    "conferir_palavra = int(input('Digite um número: '))\n",
    "\n",
    "print(lista_de_palavras.get(conferir_palavra))"
   ]
  },
  {
   "cell_type": "code",
   "execution_count": 15,
   "id": "20aceb48",
   "metadata": {},
   "outputs": [
    {
     "ename": "TypeError",
     "evalue": "dict.values() takes no arguments (1 given)",
     "output_type": "error",
     "traceback": [
      "\u001b[31m---------------------------------------------------------------------------\u001b[39m",
      "\u001b[31mTypeError\u001b[39m                                 Traceback (most recent call last)",
      "\u001b[36mCell\u001b[39m\u001b[36m \u001b[39m\u001b[32mIn[15]\u001b[39m\u001b[32m, line 5\u001b[39m\n\u001b[32m      1\u001b[39m \u001b[38;5;66;03m### Conferindo a posição da chave no dicionário\u001b[39;00m\n\u001b[32m      3\u001b[39m conferir_palavra = \u001b[38;5;28minput\u001b[39m(\u001b[33m\"\u001b[39m\u001b[33mDigite uma palavra: \u001b[39m\u001b[33m\"\u001b[39m)\n\u001b[32m----> \u001b[39m\u001b[32m5\u001b[39m \u001b[38;5;28mprint\u001b[39m(\u001b[43mlista_de_palavras\u001b[49m\u001b[43m.\u001b[49m\u001b[43mvalues\u001b[49m\u001b[43m(\u001b[49m\u001b[32;43m1\u001b[39;49m\u001b[43m)\u001b[49m)\n",
      "\u001b[31mTypeError\u001b[39m: dict.values() takes no arguments (1 given)"
     ]
    }
   ],
   "source": [
    "### Conferindo a posição da chave no dicionário\n",
    "\n",
    "conferir_palavra = input(\"Digite uma palavra: \")\n",
    "\n",
    "print(lista_de_palavras.values(1))\n"
   ]
  },
  {
   "cell_type": "code",
   "execution_count": 9,
   "id": "8e4c424e",
   "metadata": {},
   "outputs": [
    {
     "name": "stdout",
     "output_type": "stream",
     "text": [
      "{'key1': 0, 'key2': 0, 'key3': 0}\n"
     ]
    }
   ],
   "source": [
    "x = ('key1', 'key2', 'key3')\n",
    "y = 0\n",
    "\n",
    "thisdict = dict.fromkeys(x, y)\n",
    "\n",
    "print(thisdict)"
   ]
  },
  {
   "cell_type": "code",
   "execution_count": 13,
   "id": "3c9a5ac1",
   "metadata": {},
   "outputs": [
    {
     "ename": "SyntaxError",
     "evalue": "invalid syntax (3369004935.py, line 2)",
     "output_type": "error",
     "traceback": [
      "  \u001b[36mCell\u001b[39m\u001b[36m \u001b[39m\u001b[32mIn[13]\u001b[39m\u001b[32m, line 2\u001b[39m\n\u001b[31m    \u001b[39m\u001b[31my = [0:1]\u001b[39m\n          ^\n\u001b[31mSyntaxError\u001b[39m\u001b[31m:\u001b[39m invalid syntax\n"
     ]
    }
   ],
   "source": [
    "x = ('Accomplice', 'Acreage', 'Asthma', 'Bingeing', 'Brinkmanship', 'Buddhist', 'Bureaucracy', 'Demographic', 'Demoralize', 'Overarching', 'Passivizing', 'Pathetically', 'Patroller','Rookie', 'Roulette', 'Rustling', 'Shallots',  'Whether', 'Whirring', 'Whisperer')\n",
    "y = [0:1]\n",
    "\n",
    "dicionario1 = dict.fromkeys(x, y)\n",
    "\n",
    "print(dicionario1)"
   ]
  }
 ],
 "metadata": {
  "kernelspec": {
   "display_name": "Python 3",
   "language": "python",
   "name": "python3"
  },
  "language_info": {
   "codemirror_mode": {
    "name": "ipython",
    "version": 3
   },
   "file_extension": ".py",
   "mimetype": "text/x-python",
   "name": "python",
   "nbconvert_exporter": "python",
   "pygments_lexer": "ipython3",
   "version": "3.13.2"
  }
 },
 "nbformat": 4,
 "nbformat_minor": 5
}
